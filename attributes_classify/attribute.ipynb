{
 "cells": [
  {
   "cell_type": "code",
   "execution_count": 51,
   "metadata": {
    "ExecuteTime": {
     "end_time": "2019-05-25T12:01:29.193528Z",
     "start_time": "2019-05-25T12:01:29.187868Z"
    }
   },
   "outputs": [],
   "source": [
    "import pandas as pd\n",
    "import json\n",
    "import random\n",
    "from tqdm import tqdm\n",
    "\n",
    "random.seed(666)"
   ]
  },
  {
   "cell_type": "code",
   "execution_count": 53,
   "metadata": {
    "ExecuteTime": {
     "end_time": "2019-05-25T12:01:40.163571Z",
     "start_time": "2019-05-25T12:01:40.156717Z"
    }
   },
   "outputs": [],
   "source": [
    "with open('../datasets/imaterialist/label_descriptions.json', 'r') as f:\n",
    "    label_descriptions =json.load(f)"
   ]
  },
  {
   "cell_type": "code",
   "execution_count": 54,
   "metadata": {
    "ExecuteTime": {
     "end_time": "2019-05-25T12:01:41.125380Z",
     "start_time": "2019-05-25T12:01:41.060564Z"
    }
   },
   "outputs": [
    {
     "data": {
      "text/html": [
       "<div>\n",
       "<style scoped>\n",
       "    .dataframe tbody tr th:only-of-type {\n",
       "        vertical-align: middle;\n",
       "    }\n",
       "\n",
       "    .dataframe tbody tr th {\n",
       "        vertical-align: top;\n",
       "    }\n",
       "\n",
       "    .dataframe thead th {\n",
       "        text-align: right;\n",
       "    }\n",
       "</style>\n",
       "<table border=\"1\" class=\"dataframe\">\n",
       "  <thead>\n",
       "    <tr style=\"text-align: right;\">\n",
       "      <th></th>\n",
       "      <th>id</th>\n",
       "      <th>level</th>\n",
       "      <th>name</th>\n",
       "    </tr>\n",
       "    <tr>\n",
       "      <th>supercategory</th>\n",
       "      <th></th>\n",
       "      <th></th>\n",
       "      <th></th>\n",
       "    </tr>\n",
       "  </thead>\n",
       "  <tbody>\n",
       "    <tr>\n",
       "      <th>animal</th>\n",
       "      <td>6</td>\n",
       "      <td>6</td>\n",
       "      <td>6</td>\n",
       "    </tr>\n",
       "    <tr>\n",
       "      <th>length</th>\n",
       "      <td>10</td>\n",
       "      <td>10</td>\n",
       "      <td>10</td>\n",
       "    </tr>\n",
       "    <tr>\n",
       "      <th>opening type</th>\n",
       "      <td>9</td>\n",
       "      <td>9</td>\n",
       "      <td>9</td>\n",
       "    </tr>\n",
       "    <tr>\n",
       "      <th>silhouette</th>\n",
       "      <td>25</td>\n",
       "      <td>25</td>\n",
       "      <td>25</td>\n",
       "    </tr>\n",
       "    <tr>\n",
       "      <th>textile finishing, manufacturing techniques</th>\n",
       "      <td>17</td>\n",
       "      <td>17</td>\n",
       "      <td>17</td>\n",
       "    </tr>\n",
       "    <tr>\n",
       "      <th>textile pattern</th>\n",
       "      <td>18</td>\n",
       "      <td>18</td>\n",
       "      <td>18</td>\n",
       "    </tr>\n",
       "    <tr>\n",
       "      <th>waistline</th>\n",
       "      <td>7</td>\n",
       "      <td>7</td>\n",
       "      <td>7</td>\n",
       "    </tr>\n",
       "  </tbody>\n",
       "</table>\n",
       "</div>"
      ],
      "text/plain": [
       "                                             id  level  name\n",
       "supercategory                                               \n",
       "animal                                        6      6     6\n",
       "length                                       10     10    10\n",
       "opening type                                  9      9     9\n",
       "silhouette                                   25     25    25\n",
       "textile finishing, manufacturing techniques  17     17    17\n",
       "textile pattern                              18     18    18\n",
       "waistline                                     7      7     7"
      ]
     },
     "execution_count": 54,
     "metadata": {},
     "output_type": "execute_result"
    }
   ],
   "source": [
    "attr_label = pd.DataFrame(label_descriptions['attributes'])\n",
    "\n",
    "attr_label.groupby('supercategory').count()"
   ]
  },
  {
   "cell_type": "code",
   "execution_count": 59,
   "metadata": {
    "ExecuteTime": {
     "end_time": "2019-05-25T12:03:07.084997Z",
     "start_time": "2019-05-25T12:02:51.844609Z"
    },
    "scrolled": true
   },
   "outputs": [],
   "source": [
    "train_df = pd.read_csv('../datasets/imaterialist/train.csv')\n",
    "train_df.head()\n",
    "\n",
    "ImageId_list = pd.unique(train_df.ImageId)\n",
    "attr_df = train_df[train_df.ClassId.str.contains('_')]"
   ]
  },
  {
   "cell_type": "code",
   "execution_count": 60,
   "metadata": {
    "ExecuteTime": {
     "end_time": "2019-05-25T12:03:08.400734Z",
     "start_time": "2019-05-25T12:03:08.387773Z"
    }
   },
   "outputs": [
    {
     "name": "stdout",
     "output_type": "stream",
     "text": [
      "11540\n"
     ]
    },
    {
     "data": {
      "text/html": [
       "<div>\n",
       "<style scoped>\n",
       "    .dataframe tbody tr th:only-of-type {\n",
       "        vertical-align: middle;\n",
       "    }\n",
       "\n",
       "    .dataframe tbody tr th {\n",
       "        vertical-align: top;\n",
       "    }\n",
       "\n",
       "    .dataframe thead th {\n",
       "        text-align: right;\n",
       "    }\n",
       "</style>\n",
       "<table border=\"1\" class=\"dataframe\">\n",
       "  <thead>\n",
       "    <tr style=\"text-align: right;\">\n",
       "      <th></th>\n",
       "      <th>ImageId</th>\n",
       "      <th>EncodedPixels</th>\n",
       "      <th>Height</th>\n",
       "      <th>Width</th>\n",
       "      <th>ClassId</th>\n",
       "    </tr>\n",
       "  </thead>\n",
       "  <tbody>\n",
       "    <tr>\n",
       "      <th>42</th>\n",
       "      <td>000aac3870ea7c59ca0333ffa5327323.jpg</td>\n",
       "      <td>8971124 17 8975101 49 8979077 82 8983053 116 8...</td>\n",
       "      <td>4000</td>\n",
       "      <td>6000</td>\n",
       "      <td>10_3_20_34_56_69_91</td>\n",
       "    </tr>\n",
       "    <tr>\n",
       "      <th>44</th>\n",
       "      <td>000aac3870ea7c59ca0333ffa5327323.jpg</td>\n",
       "      <td>8621972 2 8625970 5 8629968 9 8633966 13 86379...</td>\n",
       "      <td>4000</td>\n",
       "      <td>6000</td>\n",
       "      <td>3_1_10_20_41_60_61_91</td>\n",
       "    </tr>\n",
       "    <tr>\n",
       "      <th>48</th>\n",
       "      <td>000b3a87508b0fa185fbd53ecbe2e4c6.jpg</td>\n",
       "      <td>291578 3 292856 8 294133 13 295410 19 296687 2...</td>\n",
       "      <td>1280</td>\n",
       "      <td>852</td>\n",
       "      <td>10_5_19_33_59_61_66_88</td>\n",
       "    </tr>\n",
       "    <tr>\n",
       "      <th>92</th>\n",
       "      <td>000e973c99dc090afd7898c93daf0dbc.jpg</td>\n",
       "      <td>4796962 5 4801882 14 4806801 24 4811721 33 481...</td>\n",
       "      <td>4928</td>\n",
       "      <td>3264</td>\n",
       "      <td>4_0_20_41_60_72_88</td>\n",
       "    </tr>\n",
       "    <tr>\n",
       "      <th>97</th>\n",
       "      <td>000e973c99dc090afd7898c93daf0dbc.jpg</td>\n",
       "      <td>5798129 11 5803042 35 5807956 58 5812870 80 58...</td>\n",
       "      <td>4928</td>\n",
       "      <td>3264</td>\n",
       "      <td>6_8_20_39_60_70</td>\n",
       "    </tr>\n",
       "  </tbody>\n",
       "</table>\n",
       "</div>"
      ],
      "text/plain": [
       "                                 ImageId  \\\n",
       "42  000aac3870ea7c59ca0333ffa5327323.jpg   \n",
       "44  000aac3870ea7c59ca0333ffa5327323.jpg   \n",
       "48  000b3a87508b0fa185fbd53ecbe2e4c6.jpg   \n",
       "92  000e973c99dc090afd7898c93daf0dbc.jpg   \n",
       "97  000e973c99dc090afd7898c93daf0dbc.jpg   \n",
       "\n",
       "                                        EncodedPixels  Height  Width  \\\n",
       "42  8971124 17 8975101 49 8979077 82 8983053 116 8...    4000   6000   \n",
       "44  8621972 2 8625970 5 8629968 9 8633966 13 86379...    4000   6000   \n",
       "48  291578 3 292856 8 294133 13 295410 19 296687 2...    1280    852   \n",
       "92  4796962 5 4801882 14 4806801 24 4811721 33 481...    4928   3264   \n",
       "97  5798129 11 5803042 35 5807956 58 5812870 80 58...    4928   3264   \n",
       "\n",
       "                   ClassId  \n",
       "42     10_3_20_34_56_69_91  \n",
       "44   3_1_10_20_41_60_61_91  \n",
       "48  10_5_19_33_59_61_66_88  \n",
       "92      4_0_20_41_60_72_88  \n",
       "97         6_8_20_39_60_70  "
      ]
     },
     "execution_count": 60,
     "metadata": {},
     "output_type": "execute_result"
    }
   ],
   "source": [
    "# attr_df.to_csv('only_attr.csv', index=False)\n",
    "# attr_df = pd.read_csv('../datasets/imaterialist/attribute_label/only_attr.csv')\n",
    "print(len(attr_df))\n",
    "attr_df.head()"
   ]
  },
  {
   "cell_type": "markdown",
   "metadata": {},
   "source": [
    "## split group for classify"
   ]
  },
  {
   "cell_type": "markdown",
   "metadata": {},
   "source": [
    "### check whether classes are unique"
   ]
  },
  {
   "cell_type": "code",
   "execution_count": 61,
   "metadata": {
    "ExecuteTime": {
     "end_time": "2019-05-25T12:03:15.257276Z",
     "start_time": "2019-05-25T12:03:15.248754Z"
    }
   },
   "outputs": [],
   "source": [
    "def check_unique(attr_df, attr_id_list):\n",
    "    cls_ids = attr_df['ClassId'].values\n",
    "    a = 0\n",
    "    c = 0\n",
    "    for i, cls_id in enumerate(cls_ids):\n",
    "        exist_list = []\n",
    "        attr_ids = tuple(map(int, cls_id.split('_')[1:]))\n",
    "        for attr_id in attr_ids:\n",
    "            sup_name = label_descriptions['attributes'][attr_id]['supercategory']\n",
    "            if attr_id in attr_id_list:\n",
    "                a += 1\n",
    "                if sup_name in exist_list:\n",
    "                    print(i, cls_id, attr_id, sup_name)\n",
    "                    c += 1\n",
    "                else:\n",
    "                    exist_list.append(sup_name)\n",
    "    return a, c"
   ]
  },
  {
   "cell_type": "code",
   "execution_count": 62,
   "metadata": {
    "ExecuteTime": {
     "end_time": "2019-05-25T12:03:15.499452Z",
     "start_time": "2019-05-25T12:03:15.441905Z"
    },
    "scrolled": true
   },
   "outputs": [
    {
     "name": "stdout",
     "output_type": "stream",
     "text": [
      "[]\n"
     ]
    },
    {
     "data": {
      "text/plain": [
       "(0, 0)"
      ]
     },
     "execution_count": 62,
     "metadata": {},
     "output_type": "execute_result"
    }
   ],
   "source": [
    "TARGET = []#list(range(85,92)),72,70\n",
    "print(TARGET)\n",
    "\n",
    "check_unique(attr_df, TARGET)#attr_for_classify['dup']"
   ]
  },
  {
   "cell_type": "markdown",
   "metadata": {},
   "source": [
    "### split labels  according to group"
   ]
  },
  {
   "cell_type": "code",
   "execution_count": 63,
   "metadata": {
    "ExecuteTime": {
     "end_time": "2019-05-25T12:03:22.659832Z",
     "start_time": "2019-05-25T12:03:22.650623Z"
    }
   },
   "outputs": [],
   "source": [
    "attr_for_classify = {\"length\": [0, 1, 2, 3, 4, 5, 6, 7, 8, 9],\n",
    "                     \"opening_type\": [10,11,13],\n",
    "                     \"opening\": [12,15,16,17,18],\n",
    "                     \"sym\": [19,20],\n",
    "                     \"silhouette\": [21, 22, 23, 24, 25, 26, 27, 28, 29, 30, 31, 32, 33, 34, 35, 36, 37, 38],\n",
    "                     \"fit\": [39, 40, 41, 42, 43],\n",
    "                     \"manufacturing_techniques\": [44, 47, 48, 49, 50, 51, 54, 55, 57, 58, 60],\n",
    "                     \"textile_pattern\": [62, 64, 65, 68, 69, 71, 73, 74, 75, 76, 83],\n",
    "                     \"animal\": [77, 78, 79, 80, 81, 82],\n",
    "                     \"waistline\": [85, 86, 87, 88, 89, 90, 91],\n",
    "                     \"other1\": [14, 45,52,56,59, 61,63, 84],\n",
    "                     \"other2\":[53,67,46,66],\n",
    "                     \"geometric\":[70],\n",
    "                     \"stripe\":[72]\n",
    "                    }\n",
    "# 53,67,70,72,46,66"
   ]
  },
  {
   "cell_type": "code",
   "execution_count": 64,
   "metadata": {
    "ExecuteTime": {
     "end_time": "2019-05-25T12:03:23.184616Z",
     "start_time": "2019-05-25T12:03:22.866843Z"
    }
   },
   "outputs": [
    {
     "name": "stderr",
     "output_type": "stream",
     "text": [
      "100%|██████████| 11540/11540 [00:00<00:00, 37767.89it/s]\n"
     ]
    }
   ],
   "source": [
    "cls_ids = attr_df['ClassId'].values\n",
    "attr_dict = {}\n",
    "for key in attr_for_classify.keys():\n",
    "    attr_dict[key] = []\n",
    "for cls_id in tqdm(cls_ids):\n",
    "    attr_ids = tuple(map(int, cls_id.split('_')[1:]))\n",
    "    for key in attr_for_classify.keys():\n",
    "        for attr_id in attr_ids:\n",
    "            if attr_id in attr_for_classify[key]:\n",
    "                break\n",
    "            else:\n",
    "                attr_id = 92\n",
    "        attr_dict[key].append(attr_id)"
   ]
  },
  {
   "cell_type": "code",
   "execution_count": 65,
   "metadata": {
    "ExecuteTime": {
     "end_time": "2019-05-25T12:03:29.847256Z",
     "start_time": "2019-05-25T12:03:29.843205Z"
    }
   },
   "outputs": [],
   "source": [
    "attr_df_new = attr_df.copy()"
   ]
  },
  {
   "cell_type": "code",
   "execution_count": 66,
   "metadata": {
    "ExecuteTime": {
     "end_time": "2019-05-25T12:03:30.102621Z",
     "start_time": "2019-05-25T12:03:30.096771Z"
    }
   },
   "outputs": [
    {
     "data": {
      "text/plain": [
       "11540"
      ]
     },
     "execution_count": 66,
     "metadata": {},
     "output_type": "execute_result"
    }
   ],
   "source": [
    "len(attr_dict['animal'])"
   ]
  },
  {
   "cell_type": "code",
   "execution_count": 67,
   "metadata": {
    "ExecuteTime": {
     "end_time": "2019-05-25T12:03:34.698854Z",
     "start_time": "2019-05-25T12:03:34.635670Z"
    }
   },
   "outputs": [],
   "source": [
    "for key in attr_dict.keys():\n",
    "    attr_df_new[key] = attr_dict[key]"
   ]
  },
  {
   "cell_type": "code",
   "execution_count": 68,
   "metadata": {
    "ExecuteTime": {
     "end_time": "2019-05-25T12:03:34.921860Z",
     "start_time": "2019-05-25T12:03:34.897356Z"
    },
    "scrolled": true
   },
   "outputs": [
    {
     "data": {
      "text/html": [
       "<div>\n",
       "<style scoped>\n",
       "    .dataframe tbody tr th:only-of-type {\n",
       "        vertical-align: middle;\n",
       "    }\n",
       "\n",
       "    .dataframe tbody tr th {\n",
       "        vertical-align: top;\n",
       "    }\n",
       "\n",
       "    .dataframe thead th {\n",
       "        text-align: right;\n",
       "    }\n",
       "</style>\n",
       "<table border=\"1\" class=\"dataframe\">\n",
       "  <thead>\n",
       "    <tr style=\"text-align: right;\">\n",
       "      <th></th>\n",
       "      <th>ImageId</th>\n",
       "      <th>EncodedPixels</th>\n",
       "      <th>Height</th>\n",
       "      <th>Width</th>\n",
       "      <th>ClassId</th>\n",
       "      <th>length</th>\n",
       "      <th>opening_type</th>\n",
       "      <th>opening</th>\n",
       "      <th>sym</th>\n",
       "      <th>silhouette</th>\n",
       "      <th>fit</th>\n",
       "      <th>manufacturing_techniques</th>\n",
       "      <th>textile_pattern</th>\n",
       "      <th>animal</th>\n",
       "      <th>waistline</th>\n",
       "      <th>other1</th>\n",
       "      <th>other2</th>\n",
       "      <th>geometric</th>\n",
       "      <th>stripe</th>\n",
       "    </tr>\n",
       "  </thead>\n",
       "  <tbody>\n",
       "    <tr>\n",
       "      <th>42</th>\n",
       "      <td>000aac3870ea7c59ca0333ffa5327323.jpg</td>\n",
       "      <td>8971124 17 8975101 49 8979077 82 8983053 116 8...</td>\n",
       "      <td>4000</td>\n",
       "      <td>6000</td>\n",
       "      <td>10_3_20_34_56_69_91</td>\n",
       "      <td>3</td>\n",
       "      <td>92</td>\n",
       "      <td>92</td>\n",
       "      <td>20</td>\n",
       "      <td>34</td>\n",
       "      <td>92</td>\n",
       "      <td>92</td>\n",
       "      <td>69</td>\n",
       "      <td>92</td>\n",
       "      <td>91</td>\n",
       "      <td>56</td>\n",
       "      <td>92</td>\n",
       "      <td>92</td>\n",
       "      <td>92</td>\n",
       "    </tr>\n",
       "    <tr>\n",
       "      <th>44</th>\n",
       "      <td>000aac3870ea7c59ca0333ffa5327323.jpg</td>\n",
       "      <td>8621972 2 8625970 5 8629968 9 8633966 13 86379...</td>\n",
       "      <td>4000</td>\n",
       "      <td>6000</td>\n",
       "      <td>3_1_10_20_41_60_61_91</td>\n",
       "      <td>1</td>\n",
       "      <td>10</td>\n",
       "      <td>92</td>\n",
       "      <td>20</td>\n",
       "      <td>92</td>\n",
       "      <td>41</td>\n",
       "      <td>60</td>\n",
       "      <td>92</td>\n",
       "      <td>92</td>\n",
       "      <td>91</td>\n",
       "      <td>61</td>\n",
       "      <td>92</td>\n",
       "      <td>92</td>\n",
       "      <td>92</td>\n",
       "    </tr>\n",
       "    <tr>\n",
       "      <th>48</th>\n",
       "      <td>000b3a87508b0fa185fbd53ecbe2e4c6.jpg</td>\n",
       "      <td>291578 3 292856 8 294133 13 295410 19 296687 2...</td>\n",
       "      <td>1280</td>\n",
       "      <td>852</td>\n",
       "      <td>10_5_19_33_59_61_66_88</td>\n",
       "      <td>5</td>\n",
       "      <td>92</td>\n",
       "      <td>92</td>\n",
       "      <td>19</td>\n",
       "      <td>33</td>\n",
       "      <td>92</td>\n",
       "      <td>92</td>\n",
       "      <td>92</td>\n",
       "      <td>92</td>\n",
       "      <td>88</td>\n",
       "      <td>59</td>\n",
       "      <td>66</td>\n",
       "      <td>92</td>\n",
       "      <td>92</td>\n",
       "    </tr>\n",
       "    <tr>\n",
       "      <th>92</th>\n",
       "      <td>000e973c99dc090afd7898c93daf0dbc.jpg</td>\n",
       "      <td>4796962 5 4801882 14 4806801 24 4811721 33 481...</td>\n",
       "      <td>4928</td>\n",
       "      <td>3264</td>\n",
       "      <td>4_0_20_41_60_72_88</td>\n",
       "      <td>0</td>\n",
       "      <td>92</td>\n",
       "      <td>92</td>\n",
       "      <td>20</td>\n",
       "      <td>92</td>\n",
       "      <td>41</td>\n",
       "      <td>60</td>\n",
       "      <td>92</td>\n",
       "      <td>92</td>\n",
       "      <td>88</td>\n",
       "      <td>92</td>\n",
       "      <td>92</td>\n",
       "      <td>92</td>\n",
       "      <td>72</td>\n",
       "    </tr>\n",
       "    <tr>\n",
       "      <th>97</th>\n",
       "      <td>000e973c99dc090afd7898c93daf0dbc.jpg</td>\n",
       "      <td>5798129 11 5803042 35 5807956 58 5812870 80 58...</td>\n",
       "      <td>4928</td>\n",
       "      <td>3264</td>\n",
       "      <td>6_8_20_39_60_70</td>\n",
       "      <td>8</td>\n",
       "      <td>92</td>\n",
       "      <td>92</td>\n",
       "      <td>20</td>\n",
       "      <td>92</td>\n",
       "      <td>39</td>\n",
       "      <td>60</td>\n",
       "      <td>92</td>\n",
       "      <td>92</td>\n",
       "      <td>92</td>\n",
       "      <td>92</td>\n",
       "      <td>92</td>\n",
       "      <td>70</td>\n",
       "      <td>92</td>\n",
       "    </tr>\n",
       "  </tbody>\n",
       "</table>\n",
       "</div>"
      ],
      "text/plain": [
       "                                 ImageId  \\\n",
       "42  000aac3870ea7c59ca0333ffa5327323.jpg   \n",
       "44  000aac3870ea7c59ca0333ffa5327323.jpg   \n",
       "48  000b3a87508b0fa185fbd53ecbe2e4c6.jpg   \n",
       "92  000e973c99dc090afd7898c93daf0dbc.jpg   \n",
       "97  000e973c99dc090afd7898c93daf0dbc.jpg   \n",
       "\n",
       "                                        EncodedPixels  Height  Width  \\\n",
       "42  8971124 17 8975101 49 8979077 82 8983053 116 8...    4000   6000   \n",
       "44  8621972 2 8625970 5 8629968 9 8633966 13 86379...    4000   6000   \n",
       "48  291578 3 292856 8 294133 13 295410 19 296687 2...    1280    852   \n",
       "92  4796962 5 4801882 14 4806801 24 4811721 33 481...    4928   3264   \n",
       "97  5798129 11 5803042 35 5807956 58 5812870 80 58...    4928   3264   \n",
       "\n",
       "                   ClassId  length  opening_type  opening  sym  silhouette  \\\n",
       "42     10_3_20_34_56_69_91       3            92       92   20          34   \n",
       "44   3_1_10_20_41_60_61_91       1            10       92   20          92   \n",
       "48  10_5_19_33_59_61_66_88       5            92       92   19          33   \n",
       "92      4_0_20_41_60_72_88       0            92       92   20          92   \n",
       "97         6_8_20_39_60_70       8            92       92   20          92   \n",
       "\n",
       "    fit  manufacturing_techniques  textile_pattern  animal  waistline  other1  \\\n",
       "42   92                        92               69      92         91      56   \n",
       "44   41                        60               92      92         91      61   \n",
       "48   92                        92               92      92         88      59   \n",
       "92   41                        60               92      92         88      92   \n",
       "97   39                        60               92      92         92      92   \n",
       "\n",
       "    other2  geometric  stripe  \n",
       "42      92         92      92  \n",
       "44      92         92      92  \n",
       "48      66         92      92  \n",
       "92      92         92      72  \n",
       "97      92         70      92  "
      ]
     },
     "execution_count": 68,
     "metadata": {},
     "output_type": "execute_result"
    }
   ],
   "source": [
    "attr_df_new.head()"
   ]
  },
  {
   "cell_type": "markdown",
   "metadata": {},
   "source": [
    "## splist train and val"
   ]
  },
  {
   "cell_type": "code",
   "execution_count": 70,
   "metadata": {
    "ExecuteTime": {
     "end_time": "2019-05-25T12:04:00.463347Z",
     "start_time": "2019-05-25T12:04:00.378821Z"
    }
   },
   "outputs": [],
   "source": [
    "with open('../datasets/imaterialist/annotations/rle_instances_val.json', 'r') as f:\n",
    "    rle_val = json.load(f)"
   ]
  },
  {
   "cell_type": "code",
   "execution_count": 71,
   "metadata": {
    "ExecuteTime": {
     "end_time": "2019-05-25T12:04:03.356330Z",
     "start_time": "2019-05-25T12:04:03.346235Z"
    }
   },
   "outputs": [],
   "source": [
    "file_name_list = []\n",
    "for img_info in rle_val['images']:\n",
    "    file_name = img_info['file_name']\n",
    "    file_name_list.append(file_name)"
   ]
  },
  {
   "cell_type": "code",
   "execution_count": 131,
   "metadata": {
    "ExecuteTime": {
     "end_time": "2019-05-25T12:23:17.705624Z",
     "start_time": "2019-05-25T12:23:17.687502Z"
    }
   },
   "outputs": [
    {
     "data": {
      "text/plain": [
       "(1734, 9806)"
      ]
     },
     "execution_count": 131,
     "metadata": {},
     "output_type": "execute_result"
    }
   ],
   "source": [
    "val_df = attr_df_new[attr_df_new['ImageId'].isin(file_name_list)]\n",
    "train_df = attr_df_new[~attr_df_new['ImageId'].isin(file_name_list)]\n",
    "val_df = val_df.copy()\n",
    "train_df = train_df.copy()\n",
    "len(val_df), len(train_df)"
   ]
  },
  {
   "cell_type": "code",
   "execution_count": 144,
   "metadata": {
    "ExecuteTime": {
     "end_time": "2019-05-25T12:29:58.350335Z",
     "start_time": "2019-05-25T12:29:54.634472Z"
    }
   },
   "outputs": [],
   "source": [
    "# val_df.to_csv('for_classify_val.csv', index=False)\n",
    "# train_df.to_csv('for_classify_train.csv', index=False)"
   ]
  },
  {
   "cell_type": "markdown",
   "metadata": {},
   "source": [
    "### copy coco-rle"
   ]
  },
  {
   "cell_type": "markdown",
   "metadata": {},
   "source": [
    "- val"
   ]
  },
  {
   "cell_type": "code",
   "execution_count": 134,
   "metadata": {
    "ExecuteTime": {
     "end_time": "2019-05-25T12:23:26.495398Z",
     "start_time": "2019-05-25T12:23:25.607950Z"
    }
   },
   "outputs": [
    {
     "data": {
      "text/plain": [
       "(1734, 1734)"
      ]
     },
     "execution_count": 134,
     "metadata": {},
     "output_type": "execute_result"
    }
   ],
   "source": [
    "index_list = list(val_df.index)\n",
    "\n",
    "rle_list = []\n",
    "for index in index_list:\n",
    "    flag = True\n",
    "    for ann in rle_val['annotations']:\n",
    "        if ann['id'] == index:\n",
    "            rle = ann['segmentation']['counts']\n",
    "            rle_list.append(rle)\n",
    "            flag = False\n",
    "            break\n",
    "    if flag:\n",
    "        print(index, \"does not match\")\n",
    "\n",
    "len(val_df), len(rle_list)"
   ]
  },
  {
   "cell_type": "code",
   "execution_count": 135,
   "metadata": {
    "ExecuteTime": {
     "end_time": "2019-05-25T12:23:26.523703Z",
     "start_time": "2019-05-25T12:23:26.498603Z"
    },
    "collapsed": true
   },
   "outputs": [
    {
     "data": {
      "text/html": [
       "<div>\n",
       "<style scoped>\n",
       "    .dataframe tbody tr th:only-of-type {\n",
       "        vertical-align: middle;\n",
       "    }\n",
       "\n",
       "    .dataframe tbody tr th {\n",
       "        vertical-align: top;\n",
       "    }\n",
       "\n",
       "    .dataframe thead th {\n",
       "        text-align: right;\n",
       "    }\n",
       "</style>\n",
       "<table border=\"1\" class=\"dataframe\">\n",
       "  <thead>\n",
       "    <tr style=\"text-align: right;\">\n",
       "      <th></th>\n",
       "      <th>ImageId</th>\n",
       "      <th>EncodedPixels</th>\n",
       "      <th>Height</th>\n",
       "      <th>Width</th>\n",
       "      <th>ClassId</th>\n",
       "      <th>length</th>\n",
       "      <th>opening_type</th>\n",
       "      <th>opening</th>\n",
       "      <th>sym</th>\n",
       "      <th>silhouette</th>\n",
       "      <th>fit</th>\n",
       "      <th>manufacturing_techniques</th>\n",
       "      <th>textile_pattern</th>\n",
       "      <th>animal</th>\n",
       "      <th>waistline</th>\n",
       "      <th>other1</th>\n",
       "      <th>other2</th>\n",
       "      <th>geometric</th>\n",
       "      <th>stripe</th>\n",
       "      <th>coco_rle</th>\n",
       "    </tr>\n",
       "  </thead>\n",
       "  <tbody>\n",
       "    <tr>\n",
       "      <th>179</th>\n",
       "      <td>00211c06b1fe730097dde122cd4d3f8c.jpg</td>\n",
       "      <td>303430 2 304427 7 305425 11 306251 26 306423 1...</td>\n",
       "      <td>1000</td>\n",
       "      <td>665</td>\n",
       "      <td>1_1_20_41_49_61_91</td>\n",
       "      <td>1</td>\n",
       "      <td>92</td>\n",
       "      <td>92</td>\n",
       "      <td>20</td>\n",
       "      <td>92</td>\n",
       "      <td>41</td>\n",
       "      <td>49</td>\n",
       "      <td>92</td>\n",
       "      <td>92</td>\n",
       "      <td>91</td>\n",
       "      <td>61</td>\n",
       "      <td>92</td>\n",
       "      <td>92</td>\n",
       "      <td>92</td>\n",
       "      <td>UZX92So05L4`J?S[OEid0P2kWObN_OBdh0\\5N2N2O1N2N2...</td>\n",
       "    </tr>\n",
       "    <tr>\n",
       "      <th>180</th>\n",
       "      <td>00211c06b1fe730097dde122cd4d3f8c.jpg</td>\n",
       "      <td>296470 1 297469 3 298468 5 299467 8 300466 10 ...</td>\n",
       "      <td>1000</td>\n",
       "      <td>665</td>\n",
       "      <td>7_2_15_20_41_48_61_88</td>\n",
       "      <td>2</td>\n",
       "      <td>92</td>\n",
       "      <td>15</td>\n",
       "      <td>20</td>\n",
       "      <td>92</td>\n",
       "      <td>41</td>\n",
       "      <td>48</td>\n",
       "      <td>92</td>\n",
       "      <td>92</td>\n",
       "      <td>88</td>\n",
       "      <td>61</td>\n",
       "      <td>92</td>\n",
       "      <td>92</td>\n",
       "      <td>92</td>\n",
       "      <td>e`Q91Vo02N2N3M2O0O00000I7H8N2N200100001O000000...</td>\n",
       "    </tr>\n",
       "    <tr>\n",
       "      <th>431</th>\n",
       "      <td>00537270eaf902da127c7ac9157a4db1.jpg</td>\n",
       "      <td>2940350 3 2943885 7 2947419 13 2950953 18 2954...</td>\n",
       "      <td>3539</td>\n",
       "      <td>2400</td>\n",
       "      <td>6_8_14_20_37_42_60_61_87</td>\n",
       "      <td>8</td>\n",
       "      <td>92</td>\n",
       "      <td>92</td>\n",
       "      <td>20</td>\n",
       "      <td>37</td>\n",
       "      <td>42</td>\n",
       "      <td>60</td>\n",
       "      <td>92</td>\n",
       "      <td>92</td>\n",
       "      <td>87</td>\n",
       "      <td>14</td>\n",
       "      <td>92</td>\n",
       "      <td>92</td>\n",
       "      <td>92</td>\n",
       "      <td>m]gi23\\^34K6J5K6J5L4K6J5K5K6K4K5K6J5K5L5J5K5K6...</td>\n",
       "    </tr>\n",
       "    <tr>\n",
       "      <th>435</th>\n",
       "      <td>00537270eaf902da127c7ac9157a4db1.jpg</td>\n",
       "      <td>3806188 5 3809720 17 3813252 25 3816785 31 382...</td>\n",
       "      <td>3539</td>\n",
       "      <td>2400</td>\n",
       "      <td>1_0_20_41_61_69_88</td>\n",
       "      <td>0</td>\n",
       "      <td>92</td>\n",
       "      <td>92</td>\n",
       "      <td>20</td>\n",
       "      <td>92</td>\n",
       "      <td>41</td>\n",
       "      <td>92</td>\n",
       "      <td>69</td>\n",
       "      <td>92</td>\n",
       "      <td>88</td>\n",
       "      <td>61</td>\n",
       "      <td>92</td>\n",
       "      <td>92</td>\n",
       "      <td>92</td>\n",
       "      <td>[oTd35W^3&lt;D8I6I6K5J6J6K5J7I6K5J6K5K5K6J7I7J7H7...</td>\n",
       "    </tr>\n",
       "    <tr>\n",
       "      <th>440</th>\n",
       "      <td>00537270eaf902da127c7ac9157a4db1.jpg</td>\n",
       "      <td>3158796 2 3162331 7 3165865 12 3169400 17 3172...</td>\n",
       "      <td>3539</td>\n",
       "      <td>2400</td>\n",
       "      <td>4_0_10_20_41_46_61_88</td>\n",
       "      <td>0</td>\n",
       "      <td>10</td>\n",
       "      <td>92</td>\n",
       "      <td>20</td>\n",
       "      <td>92</td>\n",
       "      <td>41</td>\n",
       "      <td>92</td>\n",
       "      <td>92</td>\n",
       "      <td>92</td>\n",
       "      <td>88</td>\n",
       "      <td>61</td>\n",
       "      <td>46</td>\n",
       "      <td>92</td>\n",
       "      <td>92</td>\n",
       "      <td>[h\\P32]^35J5L5J6I6J7I6M4N101N2O0O1O2O0O101N100...</td>\n",
       "    </tr>\n",
       "  </tbody>\n",
       "</table>\n",
       "</div>"
      ],
      "text/plain": [
       "                                  ImageId  \\\n",
       "179  00211c06b1fe730097dde122cd4d3f8c.jpg   \n",
       "180  00211c06b1fe730097dde122cd4d3f8c.jpg   \n",
       "431  00537270eaf902da127c7ac9157a4db1.jpg   \n",
       "435  00537270eaf902da127c7ac9157a4db1.jpg   \n",
       "440  00537270eaf902da127c7ac9157a4db1.jpg   \n",
       "\n",
       "                                         EncodedPixels  Height  Width  \\\n",
       "179  303430 2 304427 7 305425 11 306251 26 306423 1...    1000    665   \n",
       "180  296470 1 297469 3 298468 5 299467 8 300466 10 ...    1000    665   \n",
       "431  2940350 3 2943885 7 2947419 13 2950953 18 2954...    3539   2400   \n",
       "435  3806188 5 3809720 17 3813252 25 3816785 31 382...    3539   2400   \n",
       "440  3158796 2 3162331 7 3165865 12 3169400 17 3172...    3539   2400   \n",
       "\n",
       "                      ClassId  length  opening_type  opening  sym  silhouette  \\\n",
       "179        1_1_20_41_49_61_91       1            92       92   20          92   \n",
       "180     7_2_15_20_41_48_61_88       2            92       15   20          92   \n",
       "431  6_8_14_20_37_42_60_61_87       8            92       92   20          37   \n",
       "435        1_0_20_41_61_69_88       0            92       92   20          92   \n",
       "440     4_0_10_20_41_46_61_88       0            10       92   20          92   \n",
       "\n",
       "     fit  manufacturing_techniques  textile_pattern  animal  waistline  \\\n",
       "179   41                        49               92      92         91   \n",
       "180   41                        48               92      92         88   \n",
       "431   42                        60               92      92         87   \n",
       "435   41                        92               69      92         88   \n",
       "440   41                        92               92      92         88   \n",
       "\n",
       "     other1  other2  geometric  stripe  \\\n",
       "179      61      92         92      92   \n",
       "180      61      92         92      92   \n",
       "431      14      92         92      92   \n",
       "435      61      92         92      92   \n",
       "440      61      46         92      92   \n",
       "\n",
       "                                              coco_rle  \n",
       "179  UZX92So05L4`J?S[OEid0P2kWObN_OBdh0\\5N2N2O1N2N2...  \n",
       "180  e`Q91Vo02N2N3M2O0O00000I7H8N2N200100001O000000...  \n",
       "431  m]gi23\\^34K6J5K6J5L4K6J5K5K6K4K5K6J5K5L5J5K5K6...  \n",
       "435  [oTd35W^3<D8I6I6K5J6J6K5J7I6K5J6K5K5K6J7I7J7H7...  \n",
       "440  [h\\P32]^35J5L5J6I6J7I6M4N101N2O0O1O2O0O101N100...  "
      ]
     },
     "execution_count": 135,
     "metadata": {},
     "output_type": "execute_result"
    }
   ],
   "source": [
    "val_df['coco_rle'] = rle_list\n",
    "val_df.head()"
   ]
  },
  {
   "cell_type": "markdown",
   "metadata": {},
   "source": [
    "- train"
   ]
  },
  {
   "cell_type": "code",
   "execution_count": 136,
   "metadata": {
    "ExecuteTime": {
     "end_time": "2019-05-25T12:23:31.267605Z",
     "start_time": "2019-05-25T12:23:27.717041Z"
    }
   },
   "outputs": [],
   "source": [
    "with open('../datasets/imaterialist/annotations/rle_instances_train.json', 'r') as f:\n",
    "    rle_train = json.load(f)"
   ]
  },
  {
   "cell_type": "code",
   "execution_count": 137,
   "metadata": {
    "ExecuteTime": {
     "end_time": "2019-05-25T12:23:31.274475Z",
     "start_time": "2019-05-25T12:23:31.270248Z"
    }
   },
   "outputs": [
    {
     "data": {
      "text/plain": [
       "1734"
      ]
     },
     "execution_count": 137,
     "metadata": {},
     "output_type": "execute_result"
    }
   ],
   "source": [
    "len(rle_list)"
   ]
  },
  {
   "cell_type": "code",
   "execution_count": 139,
   "metadata": {
    "ExecuteTime": {
     "end_time": "2019-05-25T12:29:22.468982Z",
     "start_time": "2019-05-25T12:24:38.695587Z"
    },
    "scrolled": true
   },
   "outputs": [
    {
     "name": "stderr",
     "output_type": "stream",
     "text": [
      "100%|██████████| 9806/9806 [04:43<00:00, 34.56it/s]\n"
     ]
    },
    {
     "data": {
      "text/plain": [
       "(9806, 9806)"
      ]
     },
     "execution_count": 139,
     "metadata": {},
     "output_type": "execute_result"
    }
   ],
   "source": [
    "index_list = list(train_df.index)\n",
    "\n",
    "rle_list = []\n",
    "for index in tqdm(index_list):\n",
    "    flag = True\n",
    "    for ann in rle_train['annotations']:\n",
    "        if ann['id'] == index:\n",
    "            rle = ann['segmentation']['counts']\n",
    "            rle_list.append(rle)\n",
    "            flag = False\n",
    "            break\n",
    "    if flag:\n",
    "        print(index, \"does not match\")\n",
    "\n",
    "len(train_df), len(rle_list)"
   ]
  },
  {
   "cell_type": "code",
   "execution_count": 143,
   "metadata": {
    "ExecuteTime": {
     "end_time": "2019-05-25T12:29:40.682677Z",
     "start_time": "2019-05-25T12:29:40.661786Z"
    },
    "collapsed": true
   },
   "outputs": [
    {
     "data": {
      "text/html": [
       "<div>\n",
       "<style scoped>\n",
       "    .dataframe tbody tr th:only-of-type {\n",
       "        vertical-align: middle;\n",
       "    }\n",
       "\n",
       "    .dataframe tbody tr th {\n",
       "        vertical-align: top;\n",
       "    }\n",
       "\n",
       "    .dataframe thead th {\n",
       "        text-align: right;\n",
       "    }\n",
       "</style>\n",
       "<table border=\"1\" class=\"dataframe\">\n",
       "  <thead>\n",
       "    <tr style=\"text-align: right;\">\n",
       "      <th></th>\n",
       "      <th>ImageId</th>\n",
       "      <th>EncodedPixels</th>\n",
       "      <th>Height</th>\n",
       "      <th>Width</th>\n",
       "      <th>ClassId</th>\n",
       "      <th>length</th>\n",
       "      <th>opening_type</th>\n",
       "      <th>opening</th>\n",
       "      <th>sym</th>\n",
       "      <th>silhouette</th>\n",
       "      <th>fit</th>\n",
       "      <th>manufacturing_techniques</th>\n",
       "      <th>textile_pattern</th>\n",
       "      <th>animal</th>\n",
       "      <th>waistline</th>\n",
       "      <th>other1</th>\n",
       "      <th>other2</th>\n",
       "      <th>geometric</th>\n",
       "      <th>stripe</th>\n",
       "      <th>coco_rle</th>\n",
       "    </tr>\n",
       "  </thead>\n",
       "  <tbody>\n",
       "    <tr>\n",
       "      <th>42</th>\n",
       "      <td>000aac3870ea7c59ca0333ffa5327323.jpg</td>\n",
       "      <td>8971124 17 8975101 49 8979077 82 8983053 116 8...</td>\n",
       "      <td>4000</td>\n",
       "      <td>6000</td>\n",
       "      <td>10_3_20_34_56_69_91</td>\n",
       "      <td>3</td>\n",
       "      <td>92</td>\n",
       "      <td>92</td>\n",
       "      <td>20</td>\n",
       "      <td>34</td>\n",
       "      <td>92</td>\n",
       "      <td>92</td>\n",
       "      <td>69</td>\n",
       "      <td>92</td>\n",
       "      <td>91</td>\n",
       "      <td>56</td>\n",
       "      <td>92</td>\n",
       "      <td>92</td>\n",
       "      <td>92</td>\n",
       "      <td>ckha8a0hk3P1oNQ1oNR1oNP1oNR1oNR1mNR1nNS1nNl0SO...</td>\n",
       "    </tr>\n",
       "    <tr>\n",
       "      <th>44</th>\n",
       "      <td>000aac3870ea7c59ca0333ffa5327323.jpg</td>\n",
       "      <td>8621972 2 8625970 5 8629968 9 8633966 13 86379...</td>\n",
       "      <td>4000</td>\n",
       "      <td>6000</td>\n",
       "      <td>3_1_10_20_41_60_61_91</td>\n",
       "      <td>1</td>\n",
       "      <td>10</td>\n",
       "      <td>92</td>\n",
       "      <td>20</td>\n",
       "      <td>92</td>\n",
       "      <td>41</td>\n",
       "      <td>60</td>\n",
       "      <td>92</td>\n",
       "      <td>92</td>\n",
       "      <td>91</td>\n",
       "      <td>61</td>\n",
       "      <td>92</td>\n",
       "      <td>92</td>\n",
       "      <td>92</td>\n",
       "      <td>clSW82ll33M4L4L4L3M4M3L4L3M4L4K5I6iULgN`h3`1gV...</td>\n",
       "    </tr>\n",
       "    <tr>\n",
       "      <th>48</th>\n",
       "      <td>000b3a87508b0fa185fbd53ecbe2e4c6.jpg</td>\n",
       "      <td>291578 3 292856 8 294133 13 295410 19 296687 2...</td>\n",
       "      <td>1280</td>\n",
       "      <td>852</td>\n",
       "      <td>10_5_19_33_59_61_66_88</td>\n",
       "      <td>5</td>\n",
       "      <td>92</td>\n",
       "      <td>92</td>\n",
       "      <td>19</td>\n",
       "      <td>33</td>\n",
       "      <td>92</td>\n",
       "      <td>92</td>\n",
       "      <td>92</td>\n",
       "      <td>92</td>\n",
       "      <td>88</td>\n",
       "      <td>59</td>\n",
       "      <td>66</td>\n",
       "      <td>92</td>\n",
       "      <td>92</td>\n",
       "      <td>igl83kW15J5K6J5K6J6J5K6K4K6J5K6QkNQNdS1T2SlNVN...</td>\n",
       "    </tr>\n",
       "    <tr>\n",
       "      <th>92</th>\n",
       "      <td>000e973c99dc090afd7898c93daf0dbc.jpg</td>\n",
       "      <td>4796962 5 4801882 14 4806801 24 4811721 33 481...</td>\n",
       "      <td>4928</td>\n",
       "      <td>3264</td>\n",
       "      <td>4_0_20_41_60_72_88</td>\n",
       "      <td>0</td>\n",
       "      <td>92</td>\n",
       "      <td>92</td>\n",
       "      <td>20</td>\n",
       "      <td>92</td>\n",
       "      <td>41</td>\n",
       "      <td>60</td>\n",
       "      <td>92</td>\n",
       "      <td>92</td>\n",
       "      <td>88</td>\n",
       "      <td>92</td>\n",
       "      <td>92</td>\n",
       "      <td>92</td>\n",
       "      <td>72</td>\n",
       "      <td>Qa\\b45ci49F:G9G9J7K4M3M3L5L3M3L4M4L3M3L4M4L3L4...</td>\n",
       "    </tr>\n",
       "    <tr>\n",
       "      <th>97</th>\n",
       "      <td>000e973c99dc090afd7898c93daf0dbc.jpg</td>\n",
       "      <td>5798129 11 5803042 35 5807956 58 5812870 80 58...</td>\n",
       "      <td>4928</td>\n",
       "      <td>3264</td>\n",
       "      <td>6_8_20_39_60_70</td>\n",
       "      <td>8</td>\n",
       "      <td>92</td>\n",
       "      <td>92</td>\n",
       "      <td>20</td>\n",
       "      <td>92</td>\n",
       "      <td>39</td>\n",
       "      <td>60</td>\n",
       "      <td>92</td>\n",
       "      <td>92</td>\n",
       "      <td>92</td>\n",
       "      <td>92</td>\n",
       "      <td>92</td>\n",
       "      <td>70</td>\n",
       "      <td>92</td>\n",
       "      <td>`Wn`5;Vi4h0YOg0YOf0YOh0YOg0@?H9G9G8H9nlKbKP`3g...</td>\n",
       "    </tr>\n",
       "  </tbody>\n",
       "</table>\n",
       "</div>"
      ],
      "text/plain": [
       "                                 ImageId  \\\n",
       "42  000aac3870ea7c59ca0333ffa5327323.jpg   \n",
       "44  000aac3870ea7c59ca0333ffa5327323.jpg   \n",
       "48  000b3a87508b0fa185fbd53ecbe2e4c6.jpg   \n",
       "92  000e973c99dc090afd7898c93daf0dbc.jpg   \n",
       "97  000e973c99dc090afd7898c93daf0dbc.jpg   \n",
       "\n",
       "                                        EncodedPixels  Height  Width  \\\n",
       "42  8971124 17 8975101 49 8979077 82 8983053 116 8...    4000   6000   \n",
       "44  8621972 2 8625970 5 8629968 9 8633966 13 86379...    4000   6000   \n",
       "48  291578 3 292856 8 294133 13 295410 19 296687 2...    1280    852   \n",
       "92  4796962 5 4801882 14 4806801 24 4811721 33 481...    4928   3264   \n",
       "97  5798129 11 5803042 35 5807956 58 5812870 80 58...    4928   3264   \n",
       "\n",
       "                   ClassId  length  opening_type  opening  sym  silhouette  \\\n",
       "42     10_3_20_34_56_69_91       3            92       92   20          34   \n",
       "44   3_1_10_20_41_60_61_91       1            10       92   20          92   \n",
       "48  10_5_19_33_59_61_66_88       5            92       92   19          33   \n",
       "92      4_0_20_41_60_72_88       0            92       92   20          92   \n",
       "97         6_8_20_39_60_70       8            92       92   20          92   \n",
       "\n",
       "    fit  manufacturing_techniques  textile_pattern  animal  waistline  other1  \\\n",
       "42   92                        92               69      92         91      56   \n",
       "44   41                        60               92      92         91      61   \n",
       "48   92                        92               92      92         88      59   \n",
       "92   41                        60               92      92         88      92   \n",
       "97   39                        60               92      92         92      92   \n",
       "\n",
       "    other2  geometric  stripe  \\\n",
       "42      92         92      92   \n",
       "44      92         92      92   \n",
       "48      66         92      92   \n",
       "92      92         92      72   \n",
       "97      92         70      92   \n",
       "\n",
       "                                             coco_rle  \n",
       "42  ckha8a0hk3P1oNQ1oNR1oNP1oNR1oNR1mNR1nNS1nNl0SO...  \n",
       "44  clSW82ll33M4L4L4L3M4M3L4L3M4L4K5I6iULgN`h3`1gV...  \n",
       "48  igl83kW15J5K6J5K6J6J5K6K4K6J5K6QkNQNdS1T2SlNVN...  \n",
       "92  Qa\\b45ci49F:G9G9J7K4M3M3L5L3M3L4M4L3M3L4M4L3L4...  \n",
       "97  `Wn`5;Vi4h0YOg0YOf0YOh0YOg0@?H9G9G8H9nlKbKP`3g...  "
      ]
     },
     "execution_count": 143,
     "metadata": {},
     "output_type": "execute_result"
    }
   ],
   "source": [
    "train_df['coco_rle'] = rle_list\n",
    "train_df.head()"
   ]
  },
  {
   "cell_type": "markdown",
   "metadata": {},
   "source": [
    "## img box"
   ]
  },
  {
   "cell_type": "code",
   "execution_count": 145,
   "metadata": {
    "ExecuteTime": {
     "end_time": "2019-05-25T12:30:38.394435Z",
     "start_time": "2019-05-25T12:30:38.388547Z"
    }
   },
   "outputs": [],
   "source": [
    "from box import  rle_decode, get_image_boxes\n",
    "import pandas as pd\n",
    "from PIL import Image\n",
    "import numpy as np\n",
    "from matplotlib import pyplot as plt\n",
    "import cv2\n",
    "from torchvision import transforms\n",
    "from pycocotools import mask as coco_mask"
   ]
  },
  {
   "cell_type": "code",
   "execution_count": 146,
   "metadata": {
    "ExecuteTime": {
     "end_time": "2019-05-25T12:30:38.643345Z",
     "start_time": "2019-05-25T12:30:38.633932Z"
    }
   },
   "outputs": [],
   "source": [
    "def crop_target(img, rle, bg=True):\n",
    "#     mask = rle_decode(rle, (img.size[1], img.size[0]))\n",
    "    mask = coco_mask.decode({\"size\":(img.size[1], img.size[0]), \"counts\":rle})\n",
    "    if not bg:\n",
    "        img = mask[:,:,np.newaxis]*np.array(img)\n",
    "        img = Image.fromarray(img.astype('uint8'))\n",
    "    ys, xs = np.where(mask)\n",
    "    box = np.array([[xs.min(), ys.min(), xs.max(), ys.max()]])\n",
    "    img_box = get_image_boxes(box, img, size=224)[0]\n",
    "    return img_box"
   ]
  },
  {
   "cell_type": "code",
   "execution_count": 154,
   "metadata": {
    "ExecuteTime": {
     "end_time": "2019-05-25T12:32:09.251345Z",
     "start_time": "2019-05-25T12:32:07.947259Z"
    }
   },
   "outputs": [],
   "source": [
    "train_df = pd.read_csv('../datasets/imaterialist/attribute_label/for_classify_train.csv')"
   ]
  },
  {
   "cell_type": "code",
   "execution_count": 155,
   "metadata": {
    "ExecuteTime": {
     "end_time": "2019-05-25T12:32:09.806560Z",
     "start_time": "2019-05-25T12:32:09.659835Z"
    }
   },
   "outputs": [
    {
     "data": {
      "image/png": "[encoded data removed]",
      "text/plain": [
       "<PIL.Image.Image image mode=RGB size=224x224 at 0x7F956723D908>"
      ]
     },
     "execution_count": 155,
     "metadata": {},
     "output_type": "execute_result"
    }
   ],
   "source": [
    "i = 22\n",
    "img_id = train_df.loc[i]['ImageId']\n",
    "img = Image.open('../datasets/imaterialist/train/'+img_id)\n",
    "\n",
    "# rle = train_df.loc[i]['EncodedPixels']\n",
    "rle = train_df.loc[i]['coco_rle']\n",
    "crop_target(img, rle, bg=False)"
   ]
  },
  {
   "cell_type": "code",
   "execution_count": 156,
   "metadata": {
    "ExecuteTime": {
     "end_time": "2019-05-25T12:32:20.263084Z",
     "start_time": "2019-05-25T12:32:20.256018Z"
    }
   },
   "outputs": [],
   "source": [
    "# mask = rle_decode(rle, (img.size[1], img.size[0]))\n",
    "mask = coco_mask.decode({\"size\":(img.size[1], img.size[0]), \"counts\":rle})"
   ]
  },
  {
   "cell_type": "code",
   "execution_count": 157,
   "metadata": {
    "ExecuteTime": {
     "end_time": "2019-05-25T12:32:20.744688Z",
     "start_time": "2019-05-25T12:32:20.704992Z"
    }
   },
   "outputs": [],
   "source": [
    "DOWN_SIZE = 344\n",
    "if min(img.size)>DOWN_SIZE:\n",
    "    mask = transforms.functional.resize(Image.fromarray(mask), DOWN_SIZE, interpolation=Image.NEAREST)\n",
    "    img = transforms.functional.resize(img, DOWN_SIZE, interpolation=Image.BILINEAR)"
   ]
  },
  {
   "cell_type": "code",
   "execution_count": 158,
   "metadata": {
    "ExecuteTime": {
     "end_time": "2019-05-25T12:32:21.063094Z",
     "start_time": "2019-05-25T12:32:21.052456Z"
    }
   },
   "outputs": [
    {
     "data": {
      "text/plain": [
       "array([[ 98, 376, 268, 515]])"
      ]
     },
     "execution_count": 158,
     "metadata": {},
     "output_type": "execute_result"
    }
   ],
   "source": [
    "ys, xs = np.where(mask)\n",
    "box = np.array([[xs.min(), ys.min(), xs.max(), ys.max()]])\n",
    "box"
   ]
  },
  {
   "cell_type": "code",
   "execution_count": 159,
   "metadata": {
    "ExecuteTime": {
     "end_time": "2019-05-25T12:32:21.786585Z",
     "start_time": "2019-05-25T12:32:21.608141Z"
    }
   },
   "outputs": [
    {
     "data": {
      "image/png": "[encoded data removed]",
      "text/plain": [
       "<Figure size 432x288 with 1 Axes>"
      ]
     },
     "metadata": {
      "needs_background": "light"
     },
     "output_type": "display_data"
    }
   ],
   "source": [
    "plt.imshow(mask)\n",
    "plt.show()"
   ]
  },
  {
   "cell_type": "code",
   "execution_count": 160,
   "metadata": {
    "ExecuteTime": {
     "end_time": "2019-05-25T12:32:22.448307Z",
     "start_time": "2019-05-25T12:32:22.424945Z"
    }
   },
   "outputs": [
    {
     "data": {
      "image/png": "[encoded data removed]",
      "text/plain": [
       "<PIL.Image.Image image mode=RGB size=224x224 at 0x7F95684475C0>"
      ]
     },
     "execution_count": 160,
     "metadata": {},
     "output_type": "execute_result"
    }
   ],
   "source": [
    "img_box = get_image_boxes(box, img, size=224)[0]\n",
    "img_box"
   ]
  }
 ],
 "metadata": {
  "kernelspec": {
   "display_name": "Python 3",
   "language": "python",
   "name": "python3"
  },
  "language_info": {
   "codemirror_mode": {
    "name": "ipython",
    "version": 3
   },
   "file_extension": ".py",
   "mimetype": "text/x-python",
   "name": "python",
   "nbconvert_exporter": "python",
   "pygments_lexer": "ipython3",
   "version": "3.6.2"
  },
  "toc": {
   "base_numbering": 1,
   "nav_menu": {},
   "number_sections": true,
   "sideBar": true,
   "skip_h1_title": false,
   "title_cell": "Table of Contents",
   "title_sidebar": "Contents",
   "toc_cell": false,
   "toc_position": {},
   "toc_section_display": true,
   "toc_window_display": true
  }
 },
 "nbformat": 4,
 "nbformat_minor": 2
}
